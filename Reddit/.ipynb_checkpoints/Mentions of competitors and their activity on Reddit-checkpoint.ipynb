{
 "cells": [
  {
   "cell_type": "markdown",
   "metadata": {
    "collapsed": false
   },
   "source": [
    "# Mentions of competitors and their activity on Reddit"
   ]
  },
  {
   "cell_type": "code",
   "execution_count": 6,
   "metadata": {
    "collapsed": false
   },
   "outputs": [],
   "source": [
    "from datetime import datetime, timedelta\n",
    "import dotenv\n",
    "import json\n",
    "import os\n",
    "import pandas as pd\n",
    "from psaw import PushshiftAPI\n",
    "import requests"
   ]
  },
  {
   "cell_type": "markdown",
   "metadata": {
    "collapsed": false
   },
   "source": [
    "## PSAW"
   ]
  },
  {
   "cell_type": "code",
   "execution_count": 50,
   "metadata": {
    "collapsed": false
   },
   "outputs": [],
   "source": [
    "def psaw_to_data():\n",
    "    with open(\"./queries_list.json\", \"r\") as file:\n",
    "        competitors_queries = json.loads(file)\n",
    "\n",
    "    start = int(\n",
    "        (datetime.now() - timedelta(hours=1))\n",
    "        .replace(minute=0, second=0, microsecond=0)\n",
    "        .timestamp()\n",
    "    )\n",
    "\n",
    "    end = int(datetime.now().replace(minute=0, second=0, microsecond=0).timestamp())\n",
    "\n",
    "    api = PushshiftAPI()\n",
    "\n",
    "    data_submissions = pd.DataFrame()\n",
    "    data_comments = pd.DataFrame()\n",
    "    competitors_submissions = []\n",
    "    competitors_comments = []\n",
    "\n",
    "    for competitor in competitors_queries:\n",
    "        query = competitors_queries[competitor][\"search_keyword\"]\n",
    "        print(query)\n",
    "\n",
    "        submissions_list = list(\n",
    "            api.search_submissions(q=query, after=start, before=end)\n",
    "        )\n",
    "        submissions = pd.DataFrame([item.d_ for item in submissions_list])\n",
    "        data_submissions = pd.concat([data_submissions, submissions], ignore_index=True)\n",
    "        competitors_submissions += [competitor] * len(submissions)\n",
    "\n",
    "        comments_list = list(api.search_comments(q=query, after=start, before=end))\n",
    "        comments = pd.DataFrame([item.d_ for item in comments_list])\n",
    "        data_comments = pd.concat([data_comments, comments], ignore_index=True)\n",
    "        competitors_comments += [competitor] * len(comments)\n",
    "\n",
    "    data_submissions[\"competitor\"] = competitors_submissions\n",
    "    data_comments[\"competitor\"] = competitors_comments\n",
    "\n",
    "    data = {\"submissions\": data_submissions, \"comments\": data_comments}\n",
    "\n",
    "    return data"
   ]
  },
  {
   "cell_type": "markdown",
   "metadata": {
    "collapsed": false
   },
   "source": [
    "## Coda"
   ]
  },
  {
   "cell_type": "code",
   "execution_count": 1,
   "metadata": {
    "collapsed": false
   },
   "outputs": [],
   "source": [
    "def reddit_to_coda():\n",
    "    dotenv.load_dotenv(dotenv.find_dotenv())\n",
    "\n",
    "    data = psaw_to_data()\n",
    "\n",
    "    headers = {\"Authorization\": os.environ[\"CODA_TOKEN\"]}\n",
    "\n",
    "    uri = f\"https://coda.io/apis/v1/docs/{os.environ['CODA_DOC']}/tables/{os.environ['CODA_TABLE']}/rows\"\n",
    "\n",
    "    columns = {\n",
    "        \"Competitor\": os.environ[\"CODA_COL_1\"],\n",
    "        \"Social media\": os.environ[\"CODA_COL_2\"],\n",
    "        \"Subreddit/hashtags\": os.environ[\"CODA_COL_3\"],\n",
    "        \"Content\": os.environ[\"CODA_COL_4\"],\n",
    "        \"Author\": os.environ[\"CODA_COL_5\"],\n",
    "        \"Metrics\": os.environ[\"CODA_COL_6\"],\n",
    "        \"Link\": os.environ[\"CODA_COL_7\"],\n",
    "        \"Date\": os.environ[\"CODA_COL_8\"],\n",
    "    }\n",
    "\n",
    "    rows = [\n",
    "        {\n",
    "            \"cells\": [\n",
    "                {\n",
    "                    \"column\": columns[\"Competitor\"],\n",
    "                    \"value\": data[\"submissions\"][\"competitor\"][row],\n",
    "                },\n",
    "                {\"column\": columns[\"Social media\"], \"value\": \"Reddit\"},\n",
    "                {\n",
    "                    \"column\": columns[\"Subreddit/hashtags\"],\n",
    "                    \"value\": data[\"submissions\"][\"subreddit\"][row],\n",
    "                },\n",
    "                {\n",
    "                    \"column\": columns[\"Content\"],\n",
    "                    \"value\": \"{title}:\\n{text}\".format(\n",
    "                        title=data[\"submissions\"][\"title\"][row],\n",
    "                        text=data[\"submissions\"][\"selftext\"][row],\n",
    "                    ),\n",
    "                },\n",
    "                {\n",
    "                    \"column\": columns[\"Author\"],\n",
    "                    \"value\": data[\"submissions\"][\"author\"][row],\n",
    "                },\n",
    "                {\n",
    "                    \"column\": columns[\"Metrics\"],\n",
    "                    \"value\": \"Score: {score},\\nComments: {comments}\".format(\n",
    "                        score=data[\"submissions\"][\"score\"][row],\n",
    "                        comments=data[\"submissions\"][\"num_comments\"][row],\n",
    "                    ),\n",
    "                },\n",
    "                {\n",
    "                    \"column\": columns[\"Link\"],\n",
    "                    \"value\": data[\"submissions\"][\"full_link\"][row],\n",
    "                },\n",
    "                {\n",
    "                    \"column\": columns[\"Date\"],\n",
    "                    \"value\": \", \".join(\n",
    "                        str(\n",
    "                            datetime.fromtimestamp(data[\"submissions\"][\"created\"][row])\n",
    "                        ).split()\n",
    "                    ),\n",
    "                },\n",
    "            ]\n",
    "        }\n",
    "        for row in range(len(data[\"submissions\"]))\n",
    "    ]\n",
    "\n",
    "    rows += [\n",
    "        {\n",
    "            \"cells\": [\n",
    "                {\n",
    "                    \"column\": columns[\"Competitor\"],\n",
    "                    \"value\": data[\"comments\"][\"competitor\"][row],\n",
    "                },\n",
    "                {\"column\": columns[\"Social media\"], \"value\": \"Reddit\"},\n",
    "                {\n",
    "                    \"column\": columns[\"Subreddit/hashtags\"],\n",
    "                    \"value\": data[\"comments\"][\"subreddit\"][row],\n",
    "                },\n",
    "                {\"column\": columns[\"Content\"], \"value\": data[\"comments\"][\"body\"][row]},\n",
    "                {\"column\": columns[\"Author\"], \"value\": data[\"comments\"][\"author\"][row]},\n",
    "                {\n",
    "                    \"column\": columns[\"Metrics\"],\n",
    "                    \"value\": \"Score: {score}\".format(\n",
    "                        score=data[\"comments\"][\"score\"][row]\n",
    "                    ),\n",
    "                },\n",
    "                {\n",
    "                    \"column\": columns[\"Link\"],\n",
    "                    \"value\": \"https://reddit.com/\" + data[\"comments\"][\"permalink\"][row],\n",
    "                },\n",
    "                {\n",
    "                    \"column\": columns[\"Date\"],\n",
    "                    \"value\": \", \".join(\n",
    "                        str(\n",
    "                            datetime.fromtimestamp(data[\"comments\"][\"created\"][row])\n",
    "                        ).split()\n",
    "                    ),\n",
    "                },\n",
    "            ]\n",
    "        }\n",
    "        for row in range(len(data[\"comments\"]))\n",
    "    ]\n",
    "\n",
    "    payload = {\"rows\": rows}\n",
    "\n",
    "    req = requests.post(uri, headers=headers, json=payload)\n",
    "    req.raise_for_status()\n",
    "    res = req.json()\n",
    "    res\n",
    "\n",
    "    return"
   ]
  }
 ],
 "metadata": {
  "kernelspec": {
   "argv": [
    "/home/warehouse/miniconda3/bin/python",
    "-m",
    "ipykernel_launcher",
    "-f",
    "{connection_file}"
   ],
   "display_name": "Python 3 (ipykernel)",
   "env": null,
   "interrupt_mode": "signal",
   "language": "python",
   "metadata": {
    "debugger": true
   },
   "name": "python3"
  },
  "language_info": {
   "codemirror_mode": {
    "name": "ipython",
    "version": 3
   },
   "file_extension": ".py",
   "mimetype": "text/x-python",
   "name": "python",
   "nbconvert_exporter": "python",
   "pygments_lexer": "ipython3",
   "version": "3.8.5"
  },
  "name": "Mentions of competitors and their activity on Reddit.ipynb"
 },
 "nbformat": 4,
 "nbformat_minor": 4
}
