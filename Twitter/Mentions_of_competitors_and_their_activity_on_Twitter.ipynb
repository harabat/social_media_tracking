{
 "cells": [
  {
   "cell_type": "markdown",
   "metadata": {},
   "source": [
    "# Mentions of competitors and their activity on Twitter"
   ]
  },
  {
   "cell_type": "code",
   "execution_count": null,
   "metadata": {},
   "outputs": [],
   "source": [
    "from datetime import datetime, timedelta\n",
    "import dotenv\n",
    "import json\n",
    "import os\n",
    "import nest_asyncio\n",
    "import pandas as pd\n",
    "import requests\n",
    "import twint\n",
    "\n",
    "nest_asyncio.apply()"
   ]
  },
  {
   "cell_type": "markdown",
   "metadata": {},
   "source": [
    "## Twint"
   ]
  },
  {
   "cell_type": "code",
   "execution_count": null,
   "metadata": {},
   "outputs": [],
   "source": [
    "def twint_search(query, start, end, query_type):\n",
    "    c = twint.Config()\n",
    "    if query_type == \"search\":\n",
    "        c.Search = query\n",
    "    elif query_type == \"username\":\n",
    "        c.Username = query\n",
    "    else:\n",
    "        raise BaseException(\"wrong type\")\n",
    "    c.Since = start\n",
    "    c.Until = end\n",
    "    c.Pandas = True\n",
    "    twint.run.Search(c)\n",
    "    return twint.storage.panda.Tweets_df"
   ]
  },
  {
   "cell_type": "code",
   "execution_count": null,
   "metadata": {},
   "outputs": [],
   "source": [
    "def twint_to_data():\n",
    "    with open(\"./queries_list.json\", \"r\") as file:\n",
    "        competitors_queries = json.loads(file)\n",
    "\n",
    "    start_datetime = datetime.now() - timedelta(hours=1)\n",
    "    start = \"{date} {hour}:00:00\".format(\n",
    "        date=str(start_datetime).split()[0], hour=str(start_datetime.hour)\n",
    "    )\n",
    "    end_date = datetime.now()\n",
    "    end = \"{date} {hour}:00:00\".format(\n",
    "        date=str(end_date).split()[0], hour=str(end_date.hour)\n",
    "    )\n",
    "\n",
    "    data = pd.DataFrame()\n",
    "    competitors = []\n",
    "\n",
    "    for competitor in competitors_queries:\n",
    "        query = competitors_queries[competitor][\"search_keyword\"]\n",
    "        print(query)\n",
    "        query_type = \"search\"\n",
    "\n",
    "        tweets = twint_search(query=query, start=start, end=end, query_type=query_type)\n",
    "        data = pd.concat([data, tweets], ignore_index=True)\n",
    "        competitors += [competitor] * len(tweets)\n",
    "\n",
    "        if \"usernames\" in competitors_queries[competitor]:\n",
    "            username = competitors_queries[competitor][\"usernames\"][\"Twitter\"]\n",
    "            query_type = \"username\"\n",
    "            tweets = twint_search(\n",
    "                query=query, start=start, end=end, query_type=query_type\n",
    "            )\n",
    "            data = pd.concat([data, tweets], ignore_index=True)\n",
    "            competitors += [competitor] * len(tweets)\n",
    "\n",
    "    data[\"competitor\"] = competitors\n",
    "\n",
    "    return data"
   ]
  },
  {
   "cell_type": "markdown",
   "metadata": {},
   "source": [
    "## Coda"
   ]
  },
  {
   "cell_type": "code",
   "execution_count": null,
   "metadata": {},
   "outputs": [],
   "source": [
    "def twitter_to_coda():\n",
    "    dotenv.load_dotenv(dotenv.find_dotenv())\n",
    "\n",
    "    data = twint_to_data()\n",
    "\n",
    "    headers = {\"Authorization\": os.environ[\"CODA_TOKEN\"]}\n",
    "\n",
    "    uri = f\"https://coda.io/apis/v1/docs/{os.environ['CODA_DOC']}/tables/{os.environ['CODA_TABLE']}/rows\"\n",
    "\n",
    "    columns = {\n",
    "        \"Competitor\": os.environ[\"CODA_COL_1\"],\n",
    "        \"Social media\": os.environ[\"CODA_COL_2\"],\n",
    "        \"Subreddit/hashtags\": os.environ[\"CODA_COL_3\"],\n",
    "        \"Content\": os.environ[\"CODA_COL_4\"],\n",
    "        \"Author\": os.environ[\"CODA_COL_5\"],\n",
    "        \"Metrics\": os.environ[\"CODA_COL_6\"],\n",
    "        \"Link\": os.environ[\"CODA_COL_7\"],\n",
    "        \"Date\": os.environ[\"CODA_COL_8\"],\n",
    "    }\n",
    "\n",
    "    rows = [\n",
    "        {\n",
    "            \"cells\": [\n",
    "                {\"column\": columns[\"Competitor\"], \"value\": data[\"competitor\"][row]},\n",
    "                {\"column\": columns[\"Social media\"], \"value\": \"Twitter\"},\n",
    "                {\n",
    "                    \"column\": columns[\"Subreddit/hashtags\"],\n",
    "                    \"value\": \", \".join(data[\"hashtags\"][row]),\n",
    "                },\n",
    "                {\"column\": columns[\"Content\"], \"value\": data[\"tweet\"][row]},\n",
    "                {\"column\": columns[\"Author\"], \"value\": data[\"username\"][row]},\n",
    "                {\n",
    "                    \"column\": columns[\"Metrics\"],\n",
    "                    \"value\": \"Likes: {likes},\\nReplies: {replies}\".format(\n",
    "                        likes=data[\"nlikes\"][row],\n",
    "                        replies=data[\"nreplies\"][row],\n",
    "                        retweets=data[\"nretweets\"][row],\n",
    "                    ),\n",
    "                },\n",
    "                {\"column\": columns[\"Link\"], \"value\": data[\"link\"][row]},\n",
    "                {\"column\": columns[\"Date\"], \"value\": data[\"date\"][row]},\n",
    "            ]\n",
    "        }\n",
    "        for row in range(len(data))\n",
    "    ]\n",
    "\n",
    "    payload = {\"rows\": rows}\n",
    "\n",
    "    req = requests.post(uri, headers=headers, json=payload)\n",
    "    req.raise_for_status()\n",
    "    res = req.json()\n",
    "    res\n",
    "\n",
    "    return"
   ]
  }
 ],
 "metadata": {
  "hide_input": false,
  "jupytext": {
   "formats": "ipynb,py:percent"
  },
  "kernelspec": {
   "display_name": "Python 3 (ipykernel)",
   "language": "python",
   "name": "python3"
  },
  "language_info": {
   "codemirror_mode": {
    "name": "ipython",
    "version": 3
   },
   "file_extension": ".py",
   "mimetype": "text/x-python",
   "name": "python",
   "nbconvert_exporter": "python",
   "pygments_lexer": "ipython3",
   "version": "3.9.10"
  },
  "name": "Mentions of competitors and their activity on Twitter.ipynb",
  "toc": {
   "base_numbering": 1,
   "nav_menu": {},
   "number_sections": true,
   "sideBar": true,
   "skip_h1_title": true,
   "title_cell": "Table of Contents",
   "title_sidebar": "Contents",
   "toc_cell": false,
   "toc_position": {},
   "toc_section_display": true,
   "toc_window_display": true
  },
  "varInspector": {
   "cols": {
    "lenName": 16,
    "lenType": 16,
    "lenVar": 40
   },
   "kernels_config": {
    "python": {
     "delete_cmd_postfix": "",
     "delete_cmd_prefix": "del ",
     "library": "var_list.py",
     "varRefreshCmd": "print(var_dic_list())"
    },
    "r": {
     "delete_cmd_postfix": ") ",
     "delete_cmd_prefix": "rm(",
     "library": "var_list.r",
     "varRefreshCmd": "cat(var_dic_list()) "
    }
   },
   "types_to_exclude": [
    "module",
    "function",
    "builtin_function_or_method",
    "instance",
    "_Feature"
   ],
   "window_display": false
  }
 },
 "nbformat": 4,
 "nbformat_minor": 4
}
