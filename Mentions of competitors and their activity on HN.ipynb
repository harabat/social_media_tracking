{
 "cells": [
  {
   "cell_type": "markdown",
   "metadata": {
    "collapsed": false
   },
   "source": [
    "# Mentions of competitors and their activity on HackerNews"
   ]
  },
  {
   "cell_type": "code",
   "execution_count": 2,
   "metadata": {
    "collapsed": false
   },
   "outputs": [],
   "source": [
    "from datetime import datetime, timedelta\n",
    "import json\n",
    "import pandas as pd\n",
    "import requests"
   ]
  },
  {
   "cell_type": "markdown",
   "metadata": {
    "collapsed": false
   },
   "source": [
    "## Requests to data"
   ]
  },
  {
   "cell_type": "code",
   "execution_count": 3,
   "metadata": {
    "collapsed": false
   },
   "outputs": [],
   "source": [
    "def requests_to_data():\n",
    "    with open('./queries_list.json', 'r') as file:\n",
    "        competitors_queries = json.loads(file)\n",
    "\n",
    "    start = int(\n",
    "        (datetime.now() - timedelta(hours=1))\n",
    "        .replace(minute=0, second=0, microsecond=0)\n",
    "        .timestamp()\n",
    "    )\n",
    "    end = int(datetime.now().replace(minute=0, second=0, microsecond=0).timestamp())\n",
    "\n",
    "    print(\n",
    "        f\"Start:    {datetime.fromtimestamp(start)}\"\n",
    "        f\"End:      {datetime.fromtimestamp(end)}\"\n",
    "    )\n",
    "\n",
    "    uri = \"https://hn.algolia.com/api/v1/search_by_date?numericFilters=created_at_i>{start},created_at_i<{end}&hitsPerPage=1000\".format(\n",
    "        start=start, end=end\n",
    "    )\n",
    "\n",
    "    res = requests.get(uri).json()[\"hits\"]\n",
    "    data = pd.DataFrame(res)\n",
    "\n",
    "    data[\"competitor\"] = None\n",
    "\n",
    "    for row in range(len(data)):\n",
    "        for col in [\"title\", \"url\", \"story_text\", \"comment_text\"]:\n",
    "            try:\n",
    "                for competitor in competitors_queries:\n",
    "                    query = competitors_queries[competitor][\"search_keyword\"]\n",
    "                    if query in data[col][row]:\n",
    "                        print(query)\n",
    "                        data.loc[row, \"competitor\"] = competitor\n",
    "                        break\n",
    "\n",
    "            except TypeError:\n",
    "                continue\n",
    "\n",
    "    data = data.loc[data[\"competitor\"].notna()].reset_index(drop=True)\n",
    "\n",
    "    return data"
   ]
  },
  {
   "cell_type": "markdown",
   "metadata": {
    "collapsed": false
   },
   "source": [
    "## Coda"
   ]
  },
  {
   "cell_type": "code",
   "execution_count": null,
   "metadata": {
    "collapsed": false
   },
   "outputs": [],
   "source": [
    "def hn_to_coda():\n",
    "    data = requests_to_data()\n",
    "    \n",
    "    if data.empty:\n",
    "        return\n",
    "\n",
    "    headers = {\"Authorization\": coda.TOKEN}\n",
    "\n",
    "    uri = f\"https://coda.io/apis/v1/docs/{coda.DOC}/tables/{coda.TABLE}/rows\"\n",
    "\n",
    "    columns = {\n",
    "        \"Competitor\": \"coda.COL_1\",\n",
    "        \"Social media\": \"coda.COL_2\",\n",
    "        \"Subreddit/hashtags\": \"coda.COL_3\",\n",
    "        \"Content\": \"coda.COL_4\",\n",
    "        \"Author\": \"coda.COL_5\",\n",
    "        \"Metrics\": \"coda.COL_6\",\n",
    "        \"Link\": \"coda.COL_7\",\n",
    "        \"Date\": \"coda.COL_8\",\n",
    "    }\n",
    "\n",
    "    rows = [\n",
    "        {\n",
    "            \"cells\": [\n",
    "                {\"column\": columns[\"Competitor\"], \"value\": data[\"competitor\"][row]},\n",
    "                {\"column\": columns[\"Social media\"], \"value\": \"HackerNews\"},\n",
    "                {\n",
    "                    \"column\": columns[\"Content\"],\n",
    "                    \"value\": {\n",
    "                        \"story\": \"{title}:\\n{text}\".format(\n",
    "                            title=data[\"title\"][row],\n",
    "                            text=data[\"url\"][row] or data[\"story_text\"][row],\n",
    "                        ),\n",
    "                        \"comment\": data[\"comment_text\"][row],\n",
    "                    }[data[\"_tags\"][row][0]],\n",
    "                },\n",
    "                {\"column\": columns[\"Author\"], \"value\": data[\"author\"][row]},\n",
    "                {\n",
    "                    \"column\": columns[\"Metrics\"],\n",
    "                    \"value\": {\n",
    "                        \"story\": \":Points {points},\\nComments: {comments}\".format(\n",
    "                            points=data[\"points\"][row],\n",
    "                            comments=data[\"num_comments\"][row],\n",
    "                        ),\n",
    "                        \"comment\": \"\",\n",
    "                    }[data[\"_tags\"][row][0]],\n",
    "                },\n",
    "                {\n",
    "                    \"column\": columns[\"Link\"],\n",
    "                    \"value\": \"https://news.ycombinator.com/item?id=\"\n",
    "                    + data[\"objectID\"][row],\n",
    "                },\n",
    "                {\n",
    "                    \"column\": columns[\"Date\"],\n",
    "                    \"value\": \", \".join(\n",
    "                        str(datetime.fromtimestamp(data[\"created_at_i\"][row])).split()\n",
    "                    ),\n",
    "                },\n",
    "            ]\n",
    "        }\n",
    "        for row in range(len(data))\n",
    "    ]\n",
    "\n",
    "    payload = {\"rows\": rows}\n",
    "    print(payload)\n",
    "\n",
    "    req = requests.post(uri, headers=headers, json=payload)\n",
    "    req.raise_for_status()\n",
    "    res = req.json()\n",
    "    print(res)\n",
    "\n",
    "    return"
   ]
  }
 ],
 "metadata": {
  "kernelspec": {
   "argv": [
    "/home/warehouse/miniconda3/bin/python",
    "-m",
    "ipykernel_launcher",
    "-f",
    "{connection_file}"
   ],
   "display_name": "Python 3 (ipykernel)",
   "env": null,
   "interrupt_mode": "signal",
   "language": "python",
   "metadata": {
    "debugger": true
   },
   "name": "python3"
  },
  "language_info": {
   "codemirror_mode": {
    "name": "ipython",
    "version": 3
   },
   "file_extension": ".py",
   "mimetype": "text/x-python",
   "name": "python",
   "nbconvert_exporter": "python",
   "pygments_lexer": "ipython3",
   "version": "3.8.5"
  },
  "name": "Mentions of competitors and their activity on HN.ipynb"
 },
 "nbformat": 4,
 "nbformat_minor": 4
}
