{
 "cells": [
  {
   "cell_type": "markdown",
   "metadata": {},
   "source": [
    "# Mentions of competitors and their activity on HackerNews"
   ]
  },
  {
   "cell_type": "code",
   "execution_count": null,
   "metadata": {},
   "outputs": [],
   "source": [
    "from datetime import datetime, timedelta\n",
    "import dotenv\n",
    "import json\n",
    "import os\n",
    "import pandas as pd\n",
    "import requests"
   ]
  },
  {
   "cell_type": "markdown",
   "metadata": {},
   "source": [
    "## Requests to data"
   ]
  },
  {
   "cell_type": "code",
   "execution_count": null,
   "metadata": {},
   "outputs": [],
   "source": [
    "def requests_to_data():\n",
    "    with open('./queries_list.json', 'r') as file:\n",
    "        competitors_queries = json.loads(file)\n",
    "\n",
    "    start = int(\n",
    "        (datetime.now() - timedelta(hours=1))\n",
    "        .replace(minute=0, second=0, microsecond=0)\n",
    "        .timestamp()\n",
    "    )\n",
    "    end = int(datetime.now().replace(minute=0, second=0, microsecond=0).timestamp())\n",
    "\n",
    "    print(\n",
    "        f\"Start:    {datetime.fromtimestamp(start)}\"\n",
    "        f\"End:      {datetime.fromtimestamp(end)}\"\n",
    "    )\n",
    "\n",
    "    uri = \"https://hn.algolia.com/api/v1/search_by_date?numericFilters=created_at_i>{start},created_at_i<{end}&hitsPerPage=1000\".format(\n",
    "        start=start, end=end\n",
    "    )\n",
    "\n",
    "    res = requests.get(uri).json()[\"hits\"]\n",
    "    data = pd.DataFrame(res)\n",
    "\n",
    "    data[\"competitor\"] = None\n",
    "\n",
    "    for row in range(len(data)):\n",
    "        for col in [\"title\", \"url\", \"story_text\", \"comment_text\"]:\n",
    "            try:\n",
    "                for competitor in competitors_queries:\n",
    "                    query = competitors_queries[competitor][\"search_keyword\"]\n",
    "                    if query in data[col][row]:\n",
    "                        print(query)\n",
    "                        data.loc[row, \"competitor\"] = competitor\n",
    "                        break\n",
    "\n",
    "            except TypeError:\n",
    "                continue\n",
    "\n",
    "    data = data.loc[data[\"competitor\"].notna()].reset_index(drop=True)\n",
    "\n",
    "    return data"
   ]
  },
  {
   "cell_type": "markdown",
   "metadata": {},
   "source": [
    "## Coda"
   ]
  },
  {
   "cell_type": "code",
   "execution_count": null,
   "metadata": {},
   "outputs": [],
   "source": [
    "def hn_to_coda():\n",
    "    dotenv.load_dotenv(dotenv.find_dotenv())\n",
    "\n",
    "    data = requests_to_data()\n",
    "    \n",
    "    if data.empty:\n",
    "        return\n",
    "\n",
    "    headers = {\"Authorization\": os.environ[\"CODA_TOKEN\"]}\n",
    "\n",
    "    uri = f\"https://coda.io/apis/v1/docs/{os.environ['CODA_DOC']}/tables/{os.environ['CODA_TABLE']}/rows\"\n",
    "\n",
    "    columns = {\n",
    "        \"Competitor\": os.environ[\"CODA_COL_1\"],\n",
    "        \"Social media\": os.environ[\"CODA_COL_2\"],\n",
    "        \"Subreddit/hashtags\": os.environ[\"CODA_COL_3\"],\n",
    "        \"Content\": os.environ[\"CODA_COL_4\"],\n",
    "        \"Author\": os.environ[\"CODA_COL_5\"],\n",
    "        \"Metrics\": os.environ[\"CODA_COL_6\"],\n",
    "        \"Link\": os.environ[\"CODA_COL_7\"],\n",
    "        \"Date\": os.environ[\"CODA_COL_8\"],\n",
    "    }\n",
    "\n",
    "    rows = [\n",
    "        {\n",
    "            \"cells\": [\n",
    "                {\"column\": columns[\"Competitor\"], \"value\": data[\"competitor\"][row]},\n",
    "                {\"column\": columns[\"Social media\"], \"value\": \"HackerNews\"},\n",
    "                {\n",
    "                    \"column\": columns[\"Content\"],\n",
    "                    \"value\": {\n",
    "                        \"story\": \"{title}:\\n{text}\".format(\n",
    "                            title=data[\"title\"][row],\n",
    "                            text=data[\"url\"][row] or data[\"story_text\"][row],\n",
    "                        ),\n",
    "                        \"comment\": data[\"comment_text\"][row],\n",
    "                    }[data[\"_tags\"][row][0]],\n",
    "                },\n",
    "                {\"column\": columns[\"Author\"], \"value\": data[\"author\"][row]},\n",
    "                {\n",
    "                    \"column\": columns[\"Metrics\"],\n",
    "                    \"value\": {\n",
    "                        \"story\": \":Points {points},\\nComments: {comments}\".format(\n",
    "                            points=data[\"points\"][row],\n",
    "                            comments=data[\"num_comments\"][row],\n",
    "                        ),\n",
    "                        \"comment\": \"\",\n",
    "                    }[data[\"_tags\"][row][0]],\n",
    "                },\n",
    "                {\n",
    "                    \"column\": columns[\"Link\"],\n",
    "                    \"value\": \"https://news.ycombinator.com/item?id=\"\n",
    "                    + data[\"objectID\"][row],\n",
    "                },\n",
    "                {\n",
    "                    \"column\": columns[\"Date\"],\n",
    "                    \"value\": \", \".join(\n",
    "                        str(datetime.fromtimestamp(data[\"created_at_i\"][row])).split()\n",
    "                    ),\n",
    "                },\n",
    "            ]\n",
    "        }\n",
    "        for row in range(len(data))\n",
    "    ]\n",
    "\n",
    "    payload = {\"rows\": rows}\n",
    "    print(payload)\n",
    "\n",
    "    req = requests.post(uri, headers=headers, json=payload)\n",
    "    req.raise_for_status()\n",
    "    res = req.json()\n",
    "    print(res)\n",
    "\n",
    "    return"
   ]
  }
 ],
 "metadata": {
  "hide_input": false,
  "kernelspec": {
   "display_name": "Python 3 (ipykernel)",
   "language": "python",
   "name": "python3"
  },
  "language_info": {
   "codemirror_mode": {
    "name": "ipython",
    "version": 3
   },
   "file_extension": ".py",
   "mimetype": "text/x-python",
   "name": "python",
   "nbconvert_exporter": "python",
   "pygments_lexer": "ipython3",
   "version": "3.9.10"
  },
  "name": "Mentions of competitors and their activity on HN.ipynb",
  "toc": {
   "base_numbering": 1,
   "nav_menu": {},
   "number_sections": true,
   "sideBar": true,
   "skip_h1_title": true,
   "title_cell": "Table of Contents",
   "title_sidebar": "Contents",
   "toc_cell": false,
   "toc_position": {},
   "toc_section_display": true,
   "toc_window_display": true
  },
  "varInspector": {
   "cols": {
    "lenName": 16,
    "lenType": 16,
    "lenVar": 40
   },
   "kernels_config": {
    "python": {
     "delete_cmd_postfix": "",
     "delete_cmd_prefix": "del ",
     "library": "var_list.py",
     "varRefreshCmd": "print(var_dic_list())"
    },
    "r": {
     "delete_cmd_postfix": ") ",
     "delete_cmd_prefix": "rm(",
     "library": "var_list.r",
     "varRefreshCmd": "cat(var_dic_list()) "
    }
   },
   "types_to_exclude": [
    "module",
    "function",
    "builtin_function_or_method",
    "instance",
    "_Feature"
   ],
   "window_display": false
  }
 },
 "nbformat": 4,
 "nbformat_minor": 4
}
